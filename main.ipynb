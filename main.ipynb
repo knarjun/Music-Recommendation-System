{
 "cells": [
  {
   "cell_type": "code",
   "execution_count": 21,
   "metadata": {},
   "outputs": [],
   "source": [
    "import requests\n",
    "import base64\n",
    "import requests\n",
    "import base64\n",
    "import pandas as pd\n",
    "import numpy as np\n",
    "import spotipy \n",
    "from spotipy.oauth2 import SpotifyOAuth\n",
    "from sklearn.preprocessing import MinMaxScaler\n",
    "from sklearn.metrics.pairwise import cosine_similarity\n",
    "from sklearn.model_selection import train_test_split\n",
    "from datetime import datetime"
   ]
  },
  {
   "cell_type": "code",
   "execution_count": 22,
   "metadata": {},
   "outputs": [],
   "source": [
    "CLIENT_ID = 'a6819935efb648bd8e468b5443e100f0'\n",
    "CLIENT_SECRET = 'd2416f978e234255ac3cc31f2124fa6d'"
   ]
  },
  {
   "cell_type": "code",
   "execution_count": 23,
   "metadata": {},
   "outputs": [],
   "source": [
    "client_credentials = f\"{CLIENT_ID}:{CLIENT_SECRET}\"\n",
    "client_credentials_base64 = base64.b64encode(client_credentials.encode())"
   ]
  },
  {
   "cell_type": "code",
   "execution_count": 24,
   "metadata": {},
   "outputs": [
    {
     "name": "stdout",
     "output_type": "stream",
     "text": [
      "Access token obtained successfully.\n"
     ]
    }
   ],
   "source": [
    "token_url = 'https://accounts.spotify.com/api/token'\n",
    "headers = {'Authorization': f'Basic {client_credentials_base64.decode()}'}\n",
    "data = {'grant_type': 'client_credentials'}\n",
    "response = requests.post(token_url, data=data, headers=headers)\n",
    "\n",
    "if response.status_code == 200:\n",
    "    access_token = response.json()['access_token']\n",
    "    print(\"Access token obtained successfully.\")\n",
    "else:\n",
    "    print(\"Error obtaining access token.\")\n",
    "    exit()"
   ]
  },
  {
   "cell_type": "code",
   "execution_count": 25,
   "metadata": {},
   "outputs": [],
   "source": [
    "# Example: Trending playlist data retrieval\n",
    "playlist_id = '37i9dQZF1DX76Wlfdnj7AP'\n",
    "\n",
    "def get_trending_playlist_data(playlist_id, access_token):\n",
    "    sp = spotipy.Spotify(auth=access_token)\n",
    "    playlist_tracks = sp.playlist_tracks(playlist_id, fields='items(track(id, name, artists, album(id, name)))')\n",
    "\n",
    "    music_data = []\n",
    "    for track_info in playlist_tracks['items']:\n",
    "        track = track_info['track']\n",
    "        track_name = track['name']\n",
    "        artists = ', '.join([artist['name'] for artist in track['artists']])\n",
    "        album_name = track['album']['name']\n",
    "        album_id = track['album']['id']\n",
    "        track_id = track['id']\n",
    "\n",
    "        audio_features = sp.audio_features(track_id)[0] if track_id != 'Not available' else None\n",
    "\n",
    "        try:\n",
    "            album_info = sp.album(album_id) if album_id != 'Not available' else None\n",
    "            release_date = album_info['release_date'] if album_info else None\n",
    "        except:\n",
    "            release_date = None\n",
    "\n",
    "        try:\n",
    "            track_info = sp.track(track_id) if track_id != 'Not available' else None\n",
    "            popularity = track_info['popularity'] if track_info else None\n",
    "        except:\n",
    "            popularity = None\n",
    "\n",
    "        track_data = {\n",
    "            'Track Name': track_name,\n",
    "            'Artists': artists,\n",
    "            'Album Name': album_name,\n",
    "            'Album ID': album_id,\n",
    "            'Track ID': track_id,\n",
    "            'Popularity': popularity,\n",
    "            'Release Date': release_date,\n",
    "            'Duration (ms)': audio_features['duration_ms'] if audio_features else None,\n",
    "            'Explicit': track_info.get('explicit', None),\n",
    "            'External URLs': track_info.get('external_urls', {}).get('spotify', None),\n",
    "            'Danceability': audio_features['danceability'] if audio_features else None,\n",
    "            'Energy': audio_features['energy'] if audio_features else None,\n",
    "            'Key': audio_features['key'] if audio_features else None,\n",
    "            'Loudness': audio_features['loudness'] if audio_features else None,\n",
    "            'Mode': audio_features['mode'] if audio_features else None,\n",
    "            'Speechiness': audio_features['speechiness'] if audio_features else None,\n",
    "            'Acousticness': audio_features['acousticness'] if audio_features else None,\n",
    "            'Instrumentalness': audio_features['instrumentalness'] if audio_features else None,\n",
    "            'Liveness': audio_features['liveness'] if audio_features else None,\n",
    "            'Valence': audio_features['valence'] if audio_features else None,\n",
    "            'Tempo': audio_features['tempo'] if audio_features else None,\n",
    "        }\n",
    "\n",
    "        music_data.append(track_data)\n",
    "\n",
    "    df = pd.DataFrame(music_data)\n",
    "    return df"
   ]
  },
  {
   "cell_type": "code",
   "execution_count": 26,
   "metadata": {},
   "outputs": [
    {
     "name": "stdout",
     "output_type": "stream",
     "text": [
      "                          Track Name                       Artists  \\\n",
      "0                              Prada   cassö, RAYE, D-Block Europe   \n",
      "1                           fukumean                         Gunna   \n",
      "2                 IDGAF (feat. Yeat)                   Drake, Yeat   \n",
      "3                    I'm Good (Blue)      David Guetta, Bebe Rexha   \n",
      "4   Vois sur ton chemin - Techno Mix                       BENNETT   \n",
      "..                               ...                           ...   \n",
      "95                          Remember      Becky Hill, David Guetta   \n",
      "96                 MONEY ON THE DASH           Elley Duhé, Whethan   \n",
      "97      Kernkraft 400 (A Better Day)                    Topic, A7S   \n",
      "98                     All By Myself  Alok, Sigala, Ellie Goulding   \n",
      "99                       Motley Crew                   Post Malone   \n",
      "\n",
      "                          Album Name                Album ID  \\\n",
      "0                              Prada  5MU0RmBSpoSxOPYBfcobDc   \n",
      "1                   a Gift & a Curse  5qmZefgh78fN3jsyPPlvuw   \n",
      "2                   For All The Dogs  4czdORdCWP9umpbhFXK2fW   \n",
      "3                    I'm Good (Blue)  7M842DMhYVALrXsw3ty7B3   \n",
      "4   Vois sur ton chemin (Techno Mix)  79Cyc8GRWnLyjdJSMyJ0dB   \n",
      "..                               ...                     ...   \n",
      "95                          Remember  6DHfD3rZapWFmEKX1FNNZF   \n",
      "96                 MONEY ON THE DASH  1nlaLDMPSzXL8G5LPBDhwd   \n",
      "97      Kernkraft 400 (A Better Day)  2NIChqkijGw4r4Dqfmg0A3   \n",
      "98                     All By Myself  3lAmnw0gNntYuTltwETnSn   \n",
      "99                       Motley Crew  4tokbQaFXRrq8keVGBD9vb   \n",
      "\n",
      "                  Track ID  Popularity Release Date  Duration (ms)  Explicit  \\\n",
      "0   59NraMJsLaMCVtwXTSia8i          93   2023-08-11         132359      True   \n",
      "1   4rXLjWdF2ZZpXCVTfWcshS          93   2023-06-16         125040      True   \n",
      "2   2YSzYUF3jWqb9YP9VXmpjE          93   2023-10-06         260111      True   \n",
      "3   4uUG5RXrOk84mYEfFvj3cK          92   2022-08-26         175238      True   \n",
      "4   31nfdEooLEq7dn3UMcIeB5          90   2023-08-04         178156     False   \n",
      "..                     ...         ...          ...            ...       ...   \n",
      "95  4laAKIq9ZxBCwf99rauPYb          76   2021-06-18         160766     False   \n",
      "96  1p0jBDjxORjYNJyAphBRpE          76   2023-01-20         145667     False   \n",
      "97  3kcKlOkQQEPVwxwljbGJ5p          76   2022-06-17         165800     False   \n",
      "98  5Hp4xFihdOE2dmDzxWcBFb          76   2022-10-07         171778     False   \n",
      "99  40uMIn2zJLAQhNXghRjBed          76   2021-07-09         184213      True   \n",
      "\n",
      "                                        External URLs  ...  Energy  Key  \\\n",
      "0   https://open.spotify.com/track/59NraMJsLaMCVtw...  ...   0.717    8   \n",
      "1   https://open.spotify.com/track/4rXLjWdF2ZZpXCV...  ...   0.622    1   \n",
      "2   https://open.spotify.com/track/2YSzYUF3jWqb9YP...  ...   0.670    8   \n",
      "3   https://open.spotify.com/track/4uUG5RXrOk84mYE...  ...   0.965    7   \n",
      "4   https://open.spotify.com/track/31nfdEooLEq7dn3...  ...   0.824    2   \n",
      "..                                                ...  ...     ...  ...   \n",
      "95  https://open.spotify.com/track/4laAKIq9ZxBCwf9...  ...   0.862    8   \n",
      "96  https://open.spotify.com/track/1p0jBDjxORjYNJy...  ...   0.667    8   \n",
      "97  https://open.spotify.com/track/3kcKlOkQQEPVwxw...  ...   0.727   11   \n",
      "98  https://open.spotify.com/track/5Hp4xFihdOE2dmD...  ...   0.848    0   \n",
      "99  https://open.spotify.com/track/40uMIn2zJLAQhNX...  ...   0.631    3   \n",
      "\n",
      "    Loudness  Mode  Speechiness  Acousticness  Instrumentalness  Liveness  \\\n",
      "0     -5.804     1       0.0375       0.00100          0.000002    0.1130   \n",
      "1     -6.747     0       0.0903       0.11900          0.000000    0.2850   \n",
      "2     -8.399     1       0.2710       0.04640          0.000089    0.2050   \n",
      "3     -3.673     0       0.0343       0.00383          0.000007    0.3710   \n",
      "4     -3.394     0       0.0470       0.09080          0.071100    0.1190   \n",
      "..       ...   ...          ...           ...               ...       ...   \n",
      "95    -2.903     1       0.0370       0.04100          0.000000    0.0907   \n",
      "96    -7.126     1       0.0843       0.04390          0.000013    0.1790   \n",
      "97    -5.570     0       0.0562       0.18400          0.000020    0.3090   \n",
      "98    -4.338     0       0.0346       0.09320          0.000008    0.2410   \n",
      "99    -3.818     0       0.0786       0.09040          0.000004    0.0998   \n",
      "\n",
      "    Valence    Tempo  \n",
      "0     0.422  141.904  \n",
      "1     0.220  130.001  \n",
      "2     0.138  136.952  \n",
      "3     0.304  128.040  \n",
      "4     0.371  137.959  \n",
      "..      ...      ...  \n",
      "95    0.354  123.849  \n",
      "96    0.292  120.044  \n",
      "97    0.400  125.975  \n",
      "98    0.773  123.041  \n",
      "99    0.288  129.915  \n",
      "\n",
      "[100 rows x 21 columns]\n"
     ]
    }
   ],
   "source": [
    "# Call the function to get the music data from the playlist and store it in a DataFrame\n",
    "music_df = get_trending_playlist_data(playlist_id, access_token)\n",
    "\n",
    "# Display the DataFrame\n",
    "print(music_df)"
   ]
  },
  {
   "cell_type": "code",
   "execution_count": 27,
   "metadata": {},
   "outputs": [
    {
     "name": "stdout",
     "output_type": "stream",
     "text": [
      "Track Name          0\n",
      "Artists             0\n",
      "Album Name          0\n",
      "Album ID            0\n",
      "Track ID            0\n",
      "Popularity          0\n",
      "Release Date        0\n",
      "Duration (ms)       0\n",
      "Explicit            0\n",
      "External URLs       0\n",
      "Danceability        0\n",
      "Energy              0\n",
      "Key                 0\n",
      "Loudness            0\n",
      "Mode                0\n",
      "Speechiness         0\n",
      "Acousticness        0\n",
      "Instrumentalness    0\n",
      "Liveness            0\n",
      "Valence             0\n",
      "Tempo               0\n",
      "dtype: int64\n"
     ]
    }
   ],
   "source": [
    "print(music_df.isnull().sum())"
   ]
  },
  {
   "cell_type": "code",
   "execution_count": 28,
   "metadata": {},
   "outputs": [],
   "source": [
    "# Function to calculate weighted popularity scores based on release date\n",
    "def calculate_weighted_popularity(release_date):\n",
    "    # Convert the release date to datetime object\n",
    "    release_date = datetime.strptime(release_date, '%Y-%m-%d')\n",
    "\n",
    "    # Calculate the time span between release date and today's date\n",
    "    time_span = datetime.now() - release_date\n",
    "\n",
    "    # Calculate the weighted popularity score based on time span (e.g., more recent releases have higher weight)\n",
    "    weight = 1 / (time_span.days + 1)\n",
    "    return weight"
   ]
  },
  {
   "cell_type": "code",
   "execution_count": 29,
   "metadata": {},
   "outputs": [],
   "source": [
    "# Function to calculate weighted popularity scores based on release date\n",
    "def calculate_weighted_popularity(release_date):\n",
    "    release_date = datetime.strptime(release_date, '%Y-%m-%d')\n",
    "    time_span = datetime.now() - release_date\n",
    "    weight = 1 / (time_span.days + 1)\n",
    "    return weight"
   ]
  },
  {
   "cell_type": "code",
   "execution_count": 30,
   "metadata": {},
   "outputs": [],
   "source": [
    "# Normalize the music features using Min-Max scaling\n",
    "scaler = MinMaxScaler()\n",
    "music_features = music_df[['Danceability', 'Energy', 'Key',\n",
    "                           'Loudness', 'Mode', 'Speechiness', 'Acousticness',\n",
    "                           'Instrumentalness', 'Liveness', 'Valence', 'Tempo']].values\n",
    "music_features_scaled = scaler.fit_transform(music_features)"
   ]
  },
  {
   "cell_type": "code",
   "execution_count": 31,
   "metadata": {},
   "outputs": [],
   "source": [
    "# Function to get content-based recommendations based on music features\n",
    "def content_based_recommendations(input_song_name, num_recommendations=5):\n",
    "    if input_song_name not in music_df['Track Name'].values:\n",
    "        print(f\"'{input_song_name}' not found in the dataset. Please enter a valid song name.\")\n",
    "        return\n",
    "\n",
    "    input_song_index = music_df[music_df['Track Name'] == input_song_name].index[0]\n",
    "    similarity_scores = cosine_similarity([music_features_scaled[input_song_index]], music_features_scaled)\n",
    "    similar_song_indices = similarity_scores.argsort()[0][::-1][1:num_recommendations + 1]\n",
    "    content_based_rec = music_df.iloc[similar_song_indices][['Track Name', 'Artists', 'Album Name', 'Release Date', 'Popularity']]\n",
    "    return content_based_rec"
   ]
  },
  {
   "cell_type": "code",
   "execution_count": 32,
   "metadata": {},
   "outputs": [],
   "source": [
    "# Function to get hybrid recommendations based on weighted popularity\n",
    "def hybrid_recommendations(input_song_name, num_recommendations=5, alpha=0.5):\n",
    "    if input_song_name not in music_df['Track Name'].values:\n",
    "        print(f\"'{input_song_name}' not found in the dataset. Please enter a valid song name.\")\n",
    "        return\n",
    "\n",
    "    content_based_rec = content_based_recommendations(input_song_name, num_recommendations)\n",
    "\n",
    "    if not isinstance(content_based_rec, pd.DataFrame) or content_based_rec.empty:\n",
    "        print(\"Content-based recommendations are not available or empty.\")\n",
    "        return pd.DataFrame()\n",
    "\n",
    "    popularity_score = music_df.loc[music_df['Track Name'] == input_song_name, 'Popularity'].values[0]\n",
    "    weighted_popularity_score = popularity_score * calculate_weighted_popularity(music_df.loc[music_df['Track Name'] == input_song_name, 'Release Date'].values[0])\n",
    "\n",
    "    # Ensure that hybrid_recommendations_result is a DataFrame\n",
    "    hybrid_recommendations_result = pd.DataFrame({\n",
    "        'Track Name': [input_song_name],\n",
    "        'Artists': [music_df.loc[music_df['Track Name'] == input_song_name, 'Artists'].values[0]],\n",
    "        'Album Name': [music_df.loc[music_df['Track Name'] == input_song_name, 'Album Name'].values[0]],\n",
    "        'Release Date': [music_df.loc[music_df['Track Name'] == input_song_name, 'Release Date'].values[0]],\n",
    "        'Popularity': [weighted_popularity_score]\n",
    "    })\n",
    "\n",
    "    # Concatenate the input song information with content-based recommendations\n",
    "    hybrid_recommendations_result = pd.concat([hybrid_recommendations_result, content_based_rec], ignore_index=True)\n",
    "\n",
    "    # Sort the hybrid recommendations based on weighted popularity score\n",
    "    hybrid_recommendations_result = hybrid_recommendations_result.sort_values(by='Popularity', ascending=False)\n",
    "\n",
    "    # Remove the input song from the recommendations\n",
    "    hybrid_recommendations_result = hybrid_recommendations_result[hybrid_recommendations_result['Track Name'] != input_song_name]\n",
    "\n",
    "    return hybrid_recommendations_result"
   ]
  },
  {
   "cell_type": "code",
   "execution_count": 33,
   "metadata": {},
   "outputs": [
    {
     "name": "stdout",
     "output_type": "stream",
     "text": [
      "Hybrid recommended songs for 'Prada':\n",
      "                             Track Name                       Artists  \\\n",
      "4     SAY MY GRACE (feat. Travis Scott)          Offset, Travis Scott   \n",
      "2  Overdrive (feat. Norma Jean Martine)  Ofenbach, Norma Jean Martine   \n",
      "1                                 Pepas                       Farruko   \n",
      "5                                 10:35            Tiësto, Tate McRae   \n",
      "3                              Remember      Becky Hill, David Guetta   \n",
      "\n",
      "                             Album Name Release Date  Popularity  \n",
      "4                            SET IT OFF   2023-10-13        84.0  \n",
      "2  Overdrive (feat. Norma Jean Martine)   2023-10-06        83.0  \n",
      "1                                 Pepas   2021-06-24        82.0  \n",
      "5                                 10:35   2022-11-03        81.0  \n",
      "3                              Remember   2021-06-18        76.0  \n"
     ]
    }
   ],
   "source": [
    "# Example usage\n",
    "input_song_name = \"Prada\"\n",
    "recommendations = hybrid_recommendations(input_song_name, num_recommendations=5)\n",
    "print(f\"Hybrid recommended songs for '{input_song_name}':\")\n",
    "print(recommendations)"
   ]
  }
 ],
 "metadata": {
  "kernelspec": {
   "display_name": "Python 3",
   "language": "python",
   "name": "python3"
  },
  "language_info": {
   "codemirror_mode": {
    "name": "ipython",
    "version": 3
   },
   "file_extension": ".py",
   "mimetype": "text/x-python",
   "name": "python",
   "nbconvert_exporter": "python",
   "pygments_lexer": "ipython3",
   "version": "3.11.5"
  }
 },
 "nbformat": 4,
 "nbformat_minor": 2
}
